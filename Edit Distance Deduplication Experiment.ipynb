{
 "cells": [
  {
   "cell_type": "code",
   "execution_count": 1,
   "metadata": {
    "ExecuteTime": {
     "end_time": "2020-05-08T11:19:33.235387Z",
     "start_time": "2020-05-08T11:19:22.958946Z"
    }
   },
   "outputs": [],
   "source": [
    "# Libraries\n",
    "import pandas as pd\n",
    "from pandas import DataFrame\n",
    "from nltk import edit_distance\n",
    "from fuzzywuzzy import fuzz\n",
    "from datetime import datetime"
   ]
  },
  {
   "cell_type": "code",
   "execution_count": 2,
   "metadata": {
    "ExecuteTime": {
     "end_time": "2020-05-08T11:19:33.250355Z",
     "start_time": "2020-05-08T11:19:33.237349Z"
    }
   },
   "outputs": [],
   "source": [
    "# Get data\n",
    "# df = pd.read_csv(\"cust10k.csv\", delimiter=\"|\")\n",
    "file = \"./affiliationstrings/affiliationstrings_ids.csv\"\n",
    "df = pd.read_csv(file, index_col=0)\n",
    "df.columns=[\"entityname\"]"
   ]
  },
  {
   "cell_type": "code",
   "execution_count": 3,
   "metadata": {
    "ExecuteTime": {
     "end_time": "2020-05-08T14:45:23.966741Z",
     "start_time": "2020-05-08T14:45:23.948768Z"
    }
   },
   "outputs": [
    {
     "data": {
      "text/html": [
       "<div>\n",
       "<style scoped>\n",
       "    .dataframe tbody tr th:only-of-type {\n",
       "        vertical-align: middle;\n",
       "    }\n",
       "\n",
       "    .dataframe tbody tr th {\n",
       "        vertical-align: top;\n",
       "    }\n",
       "\n",
       "    .dataframe thead th {\n",
       "        text-align: right;\n",
       "    }\n",
       "</style>\n",
       "<table border=\"1\" class=\"dataframe\">\n",
       "  <thead>\n",
       "    <tr style=\"text-align: right;\">\n",
       "      <th></th>\n",
       "      <th>entityname</th>\n",
       "    </tr>\n",
       "    <tr>\n",
       "      <th>id1</th>\n",
       "      <th></th>\n",
       "    </tr>\n",
       "  </thead>\n",
       "  <tbody>\n",
       "    <tr>\n",
       "      <th>7927</th>\n",
       "      <td>, IBM Almaden Research Center, 650 Harry Road,...</td>\n",
       "    </tr>\n",
       "    <tr>\n",
       "      <th>7930</th>\n",
       "      <td>, IIT Bombay</td>\n",
       "    </tr>\n",
       "    <tr>\n",
       "      <th>7987</th>\n",
       "      <td>, University of California, San Diego, USA</td>\n",
       "    </tr>\n",
       "    <tr>\n",
       "      <th>5613</th>\n",
       "      <td>28msec Inc., Zurich, Switzerland</td>\n",
       "    </tr>\n",
       "    <tr>\n",
       "      <th>9530</th>\n",
       "      <td>28msec, Inc.</td>\n",
       "    </tr>\n",
       "  </tbody>\n",
       "</table>\n",
       "</div>"
      ],
      "text/plain": [
       "                                             entityname\n",
       "id1                                                    \n",
       "7927  , IBM Almaden Research Center, 650 Harry Road,...\n",
       "7930                                       , IIT Bombay\n",
       "7987         , University of California, San Diego, USA\n",
       "5613                   28msec Inc., Zurich, Switzerland\n",
       "9530                                       28msec, Inc."
      ]
     },
     "execution_count": 3,
     "metadata": {},
     "output_type": "execute_result"
    }
   ],
   "source": [
    "df.head()"
   ]
  },
  {
   "cell_type": "code",
   "execution_count": 4,
   "metadata": {},
   "outputs": [
    {
     "data": {
      "text/plain": [
       "entityname    Department of Computer Engineering, Kyungpook ...\n",
       "Name: 8544, dtype: object"
      ]
     },
     "execution_count": 4,
     "metadata": {},
     "output_type": "execute_result"
    }
   ],
   "source": [
    "df.loc[8544]"
   ]
  },
  {
   "cell_type": "code",
   "execution_count": 5,
   "metadata": {
    "ExecuteTime": {
     "end_time": "2020-05-08T11:19:33.260355Z",
     "start_time": "2020-05-08T11:19:33.251351Z"
    }
   },
   "outputs": [
    {
     "data": {
      "text/plain": [
       "(2260, 1)"
      ]
     },
     "execution_count": 5,
     "metadata": {},
     "output_type": "execute_result"
    }
   ],
   "source": [
    "df.shape"
   ]
  },
  {
   "cell_type": "code",
   "execution_count": 6,
   "metadata": {
    "ExecuteTime": {
     "end_time": "2020-05-08T14:02:25.991807Z",
     "start_time": "2020-05-08T14:02:25.985853Z"
    }
   },
   "outputs": [],
   "source": [
    "def setup():\n",
    "    # Add a column to store grouping\n",
    "    df[\"GroupA\"] = None\n",
    "    df[\"GroupB\"] = None\n",
    "    df[\"GroupC\"] = None\n",
    "    df[\"GroupA_id1\"] = None\n",
    "    df[\"GroupB_id1\"] = None\n",
    "    df[\"GroupC_id1\"] = None\n",
    "    df[\"GroupA_score\"] = None\n",
    "    df[\"GroupB_score\"] = None\n",
    "    df[\"GroupC_score\"] = None"
   ]
  },
  {
   "cell_type": "code",
   "execution_count": 7,
   "metadata": {
    "ExecuteTime": {
     "end_time": "2020-05-08T14:02:28.577520Z",
     "start_time": "2020-05-08T14:02:28.570516Z"
    }
   },
   "outputs": [],
   "source": [
    "setup() # RUN THIS FIRST!!!"
   ]
  },
  {
   "cell_type": "code",
   "execution_count": 9,
   "metadata": {
    "ExecuteTime": {
     "end_time": "2020-05-08T14:12:28.892218Z",
     "start_time": "2020-05-08T14:02:30.439033Z"
    }
   },
   "outputs": [
    {
     "name": "stdout",
     "output_type": "stream",
     "text": [
      "Starting: GroupA\n",
      "========================================================================\n",
      "========================================================================\n",
      "Group GroupA total time: 0:05:39.694824\n",
      "Starting: GroupB\n",
      "========================================================================\n",
      "========================================================================\n",
      "Group GroupB total time: 0:05:46.199762\n",
      "Starting: GroupC\n",
      "========================================================================\n",
      "========================================================================\n",
      "Group GroupC total time: 0:05:40.589986\n",
      "Saving groups...\n",
      "Save complete!\n"
     ]
    }
   ],
   "source": [
    "groups = [\"GroupA\", \"GroupB\", \"GroupC\"]\n",
    "\n",
    "for g in groups:\n",
    "    print(f\"Starting: {g}\")\n",
    "    print(\"=\" * 72)\n",
    "    initial = datetime.now()\n",
    "    df = df.sample(frac=1)\n",
    "    # indices of names for looping\n",
    "    list_idx = [idx for idx in df.index]\n",
    "    \n",
    "    # Loop through names\n",
    "#     num_records = 100 # restrict for debug\n",
    "#     for idx in list_idx[:num_records]: # restrict for debug\n",
    "    \n",
    "    for idx in list_idx:\n",
    "#         print(\"-\" * 72)\n",
    "        current_name = df.loc[idx]['entityname']\n",
    "#         print(f\"idx:{idx} name to compare: {current_name}\")\n",
    "        \n",
    "    \n",
    "        if df.loc[idx][g] is None:\n",
    "            idx_to_compare = list_idx[list_idx.index(idx)+1:]\n",
    "            for i in idx_to_compare:\n",
    "                if df.loc[i][g] is None:\n",
    "                    compare_name = df.loc[i][\"entityname\"]\n",
    "                    similarity_score = fuzz.ratio(current_name, compare_name)\n",
    "                    if similarity_score > 80:\n",
    "    #                     print(f\"Similarity score:{similarity_score}\")\n",
    "                        df.loc[df.index == i, g] = current_name\n",
    "                        df.loc[df.index == i, g+\"_score\"] = similarity_score\n",
    "                        df.loc[df.index == i, g+\"_id1\"] = idx\n",
    "#         else:\n",
    "#             print(f\"{current_name} already matched. Skipping.\")\n",
    "    \n",
    "    \n",
    "    \n",
    "    final = datetime.now()\n",
    "    total_time = final - initial\n",
    "    print(\"=\" * 72)\n",
    "    print(f\"Group {g} total time: {total_time}\")\n",
    "\n",
    "print(\"Saving groups...\")\n",
    "df.to_csv(\"edit_dist_dedup_groups.csv\")\n",
    "print(\"Save complete!\")"
   ]
  },
  {
   "cell_type": "code",
   "execution_count": 10,
   "metadata": {
    "ExecuteTime": {
     "end_time": "2020-05-08T14:37:35.842510Z",
     "start_time": "2020-05-08T14:37:35.832549Z"
    }
   },
   "outputs": [
    {
     "name": "stdout",
     "output_type": "stream",
     "text": [
      "Number of matches: 1029\n",
      "Number of groups: 448\n"
     ]
    },
    {
     "data": {
      "text/plain": [
       "IBM T. J. Watson Research Center, Hawthorne, NY                     22\n",
       "Department of Computer Science, Fudan University, China             20\n",
       "Hong Kong University of Science and Technology, Hong Kong, China    15\n",
       "IBM Almaden Research Center, San Jose, CA                           13\n",
       "AT&T Labs - Research, Florham Park, NJ, USA                         13\n",
       "University of California Santa Cruz                                 12\n",
       "AT & T Labs-Research                                                12\n",
       "The University of Hong Kong, Hong Kong                              12\n",
       "University of Illinois at Urbana-Champaign, Urbana, IL, USA          9\n",
       "University of California, Santa Barbara, Santa Barbara, CA, USA      9\n",
       "Name: GroupA, dtype: int64"
      ]
     },
     "execution_count": 10,
     "metadata": {},
     "output_type": "execute_result"
    }
   ],
   "source": [
    "group = \"GroupA\"\n",
    "print(f\"Number of matches: {df[group].value_counts().sum()}\")\n",
    "print(f\"Number of groups: {len(df[group].unique())}\")\n",
    "df[group].value_counts()[:10]"
   ]
  },
  {
   "cell_type": "code",
   "execution_count": 11,
   "metadata": {},
   "outputs": [
    {
     "data": {
      "text/html": [
       "<div>\n",
       "<style scoped>\n",
       "    .dataframe tbody tr th:only-of-type {\n",
       "        vertical-align: middle;\n",
       "    }\n",
       "\n",
       "    .dataframe tbody tr th {\n",
       "        vertical-align: top;\n",
       "    }\n",
       "\n",
       "    .dataframe thead th {\n",
       "        text-align: right;\n",
       "    }\n",
       "</style>\n",
       "<table border=\"1\" class=\"dataframe\">\n",
       "  <thead>\n",
       "    <tr style=\"text-align: right;\">\n",
       "      <th></th>\n",
       "      <th>entityname</th>\n",
       "      <th>GroupA</th>\n",
       "      <th>GroupB</th>\n",
       "      <th>GroupC</th>\n",
       "      <th>GroupA_id1</th>\n",
       "      <th>GroupB_id1</th>\n",
       "      <th>GroupC_id1</th>\n",
       "      <th>GroupA_score</th>\n",
       "      <th>GroupB_score</th>\n",
       "      <th>GroupC_score</th>\n",
       "    </tr>\n",
       "    <tr>\n",
       "      <th>id1</th>\n",
       "      <th></th>\n",
       "      <th></th>\n",
       "      <th></th>\n",
       "      <th></th>\n",
       "      <th></th>\n",
       "      <th></th>\n",
       "      <th></th>\n",
       "      <th></th>\n",
       "      <th></th>\n",
       "      <th></th>\n",
       "    </tr>\n",
       "  </thead>\n",
       "  <tbody>\n",
       "    <tr>\n",
       "      <th>8948</th>\n",
       "      <td>AT&amp;T Labs-Research, Florham Park NJ</td>\n",
       "      <td>AT&amp;T Labs - Research, Florham Park, NJ, USA</td>\n",
       "      <td>AT&amp;T Labs--Research, Florham Park, NJ</td>\n",
       "      <td>None</td>\n",
       "      <td>5865</td>\n",
       "      <td>3117</td>\n",
       "      <td>None</td>\n",
       "      <td>90</td>\n",
       "      <td>97</td>\n",
       "      <td>None</td>\n",
       "    </tr>\n",
       "    <tr>\n",
       "      <th>3142</th>\n",
       "      <td>AT&amp;T Labs--Research</td>\n",
       "      <td>AT &amp; T Labs-Research</td>\n",
       "      <td>AT&amp;T Labs Research</td>\n",
       "      <td>None</td>\n",
       "      <td>4046</td>\n",
       "      <td>454</td>\n",
       "      <td>None</td>\n",
       "      <td>92</td>\n",
       "      <td>92</td>\n",
       "      <td>None</td>\n",
       "    </tr>\n",
       "    <tr>\n",
       "      <th>6259</th>\n",
       "      <td>AT&amp;T Laboratories - Research, Florham Park, NJ...</td>\n",
       "      <td>AT&amp;T Labs - Research, Florham Park, NJ, USA</td>\n",
       "      <td>AT&amp;T Labs--Research, Florham Park, NJ</td>\n",
       "      <td>AT&amp;T Labs-Research, Florham Park NJ</td>\n",
       "      <td>5865</td>\n",
       "      <td>3117</td>\n",
       "      <td>8948</td>\n",
       "      <td>91</td>\n",
       "      <td>82</td>\n",
       "      <td>81</td>\n",
       "    </tr>\n",
       "    <tr>\n",
       "      <th>1456</th>\n",
       "      <td>AT&amp;T Labs-Research, NJ</td>\n",
       "      <td>AT &amp; T Labs-Research</td>\n",
       "      <td>AT&amp;T Labs Research</td>\n",
       "      <td>AT&amp;T Labs--Research</td>\n",
       "      <td>4046</td>\n",
       "      <td>454</td>\n",
       "      <td>3142</td>\n",
       "      <td>86</td>\n",
       "      <td>85</td>\n",
       "      <td>88</td>\n",
       "    </tr>\n",
       "    <tr>\n",
       "      <th>1702</th>\n",
       "      <td>AT&amp;T Labs - Research</td>\n",
       "      <td>AT &amp; T Labs-Research</td>\n",
       "      <td>AT&amp;T Labs Research</td>\n",
       "      <td>AT&amp;T Labs--Research</td>\n",
       "      <td>4046</td>\n",
       "      <td>454</td>\n",
       "      <td>3142</td>\n",
       "      <td>90</td>\n",
       "      <td>95</td>\n",
       "      <td>92</td>\n",
       "    </tr>\n",
       "  </tbody>\n",
       "</table>\n",
       "</div>"
      ],
      "text/plain": [
       "                                             entityname  \\\n",
       "id1                                                       \n",
       "8948                AT&T Labs-Research, Florham Park NJ   \n",
       "3142                                AT&T Labs--Research   \n",
       "6259  AT&T Laboratories - Research, Florham Park, NJ...   \n",
       "1456                             AT&T Labs-Research, NJ   \n",
       "1702                               AT&T Labs - Research   \n",
       "\n",
       "                                           GroupA  \\\n",
       "id1                                                 \n",
       "8948  AT&T Labs - Research, Florham Park, NJ, USA   \n",
       "3142                         AT & T Labs-Research   \n",
       "6259  AT&T Labs - Research, Florham Park, NJ, USA   \n",
       "1456                         AT & T Labs-Research   \n",
       "1702                         AT & T Labs-Research   \n",
       "\n",
       "                                     GroupB  \\\n",
       "id1                                           \n",
       "8948  AT&T Labs--Research, Florham Park, NJ   \n",
       "3142                     AT&T Labs Research   \n",
       "6259  AT&T Labs--Research, Florham Park, NJ   \n",
       "1456                     AT&T Labs Research   \n",
       "1702                     AT&T Labs Research   \n",
       "\n",
       "                                   GroupC GroupA_id1 GroupB_id1 GroupC_id1  \\\n",
       "id1                                                                          \n",
       "8948                                 None       5865       3117       None   \n",
       "3142                                 None       4046        454       None   \n",
       "6259  AT&T Labs-Research, Florham Park NJ       5865       3117       8948   \n",
       "1456                  AT&T Labs--Research       4046        454       3142   \n",
       "1702                  AT&T Labs--Research       4046        454       3142   \n",
       "\n",
       "     GroupA_score GroupB_score GroupC_score  \n",
       "id1                                          \n",
       "8948           90           97         None  \n",
       "3142           92           92         None  \n",
       "6259           91           82           81  \n",
       "1456           86           85           88  \n",
       "1702           90           95           92  "
      ]
     },
     "execution_count": 11,
     "metadata": {},
     "output_type": "execute_result"
    }
   ],
   "source": [
    "df.loc[df[\"entityname\"].str.contains(\"AT&T\")].head()"
   ]
  },
  {
   "cell_type": "markdown",
   "metadata": {},
   "source": [
    "Remove duplicate permutations of tuples:\n",
    "\n",
    "https://stackoverflow.com/questions/15352995/removing-permutations-from-a-list-of-tuples"
   ]
  },
  {
   "cell_type": "code",
   "execution_count": 39,
   "metadata": {},
   "outputs": [],
   "source": [
    "matches_temp = list(set(list(zip(df[\"GroupA_id1\"].index, df[\"GroupA_id1\"].values)) + \\\n",
    "        list(zip(df[\"GroupB_id1\"].index, df[\"GroupB_id1\"].values)) + \\\n",
    "        list(zip(df[\"GroupC_id1\"].index, df[\"GroupC_id1\"].values))))\n",
    "\n",
    "matches = []\n",
    "for m in matches_temp:\n",
    "    if m[0] is not None and m[1] is not None:\n",
    "        matches.append(m)\n",
    "\n",
    "# Remove permutation duplicates\n",
    "matches = list(set(tuple(sorted(t)) for t in matches))"
   ]
  },
  {
   "cell_type": "code",
   "execution_count": 40,
   "metadata": {},
   "outputs": [
    {
     "data": {
      "text/plain": [
       "2019"
      ]
     },
     "execution_count": 40,
     "metadata": {},
     "output_type": "execute_result"
    }
   ],
   "source": [
    "len(matches)"
   ]
  },
  {
   "cell_type": "code",
   "execution_count": 41,
   "metadata": {},
   "outputs": [
    {
     "data": {
      "text/plain": [
       "[(2268, 7422),\n",
       " (130, 8584),\n",
       " (8253, 9141),\n",
       " (1476, 8078),\n",
       " (1385, 7594),\n",
       " (1037, 6673),\n",
       " (48, 8992),\n",
       " (2323, 5566),\n",
       " (6064, 6278),\n",
       " (1974, 9593)]"
      ]
     },
     "execution_count": 41,
     "metadata": {},
     "output_type": "execute_result"
    }
   ],
   "source": [
    "matches[:10]"
   ]
  },
  {
   "cell_type": "code",
   "execution_count": 52,
   "metadata": {},
   "outputs": [
    {
     "data": {
      "text/html": [
       "<div>\n",
       "<style scoped>\n",
       "    .dataframe tbody tr th:only-of-type {\n",
       "        vertical-align: middle;\n",
       "    }\n",
       "\n",
       "    .dataframe tbody tr th {\n",
       "        vertical-align: top;\n",
       "    }\n",
       "\n",
       "    .dataframe thead th {\n",
       "        text-align: right;\n",
       "    }\n",
       "</style>\n",
       "<table border=\"1\" class=\"dataframe\">\n",
       "  <thead>\n",
       "    <tr style=\"text-align: right;\">\n",
       "      <th></th>\n",
       "      <th>entityid1</th>\n",
       "      <th>entityid2</th>\n",
       "      <th>match_string</th>\n",
       "    </tr>\n",
       "  </thead>\n",
       "  <tbody>\n",
       "    <tr>\n",
       "      <th>0</th>\n",
       "      <td>2268</td>\n",
       "      <td>7422</td>\n",
       "      <td>2268|7422</td>\n",
       "    </tr>\n",
       "    <tr>\n",
       "      <th>1</th>\n",
       "      <td>130</td>\n",
       "      <td>8584</td>\n",
       "      <td>130|8584</td>\n",
       "    </tr>\n",
       "    <tr>\n",
       "      <th>2</th>\n",
       "      <td>8253</td>\n",
       "      <td>9141</td>\n",
       "      <td>8253|9141</td>\n",
       "    </tr>\n",
       "    <tr>\n",
       "      <th>3</th>\n",
       "      <td>1476</td>\n",
       "      <td>8078</td>\n",
       "      <td>1476|8078</td>\n",
       "    </tr>\n",
       "    <tr>\n",
       "      <th>4</th>\n",
       "      <td>1385</td>\n",
       "      <td>7594</td>\n",
       "      <td>1385|7594</td>\n",
       "    </tr>\n",
       "  </tbody>\n",
       "</table>\n",
       "</div>"
      ],
      "text/plain": [
       "   entityid1  entityid2 match_string\n",
       "0       2268       7422    2268|7422\n",
       "1        130       8584     130|8584\n",
       "2       8253       9141    8253|9141\n",
       "3       1476       8078    1476|8078\n",
       "4       1385       7594    1385|7594"
      ]
     },
     "execution_count": 52,
     "metadata": {},
     "output_type": "execute_result"
    }
   ],
   "source": [
    "df_matches = pd.DataFrame(matches)\n",
    "df_matches.columns = [\"entityid1\", \"entityid2\"]\n",
    "# df_matches.set_index(\"entityid1\", inplace=True)\n",
    "df_matches[\"match_string\"] = df_matches.apply(lambda row: str(row[\"entityid1\"])+\"|\"+str(row[\"entityid2\"]), axis=1)\n",
    "df_matches.head()"
   ]
  },
  {
   "cell_type": "code",
   "execution_count": 43,
   "metadata": {},
   "outputs": [],
   "source": [
    "# Get ground truth\n",
    "file = \"./affiliationstrings/affiliationstrings_mapping.csv\"\n",
    "df_truth = pd.read_csv(file, index_col=0, header=None, names=[\"entityid1\", \"entityid2\"])"
   ]
  },
  {
   "cell_type": "code",
   "execution_count": 44,
   "metadata": {},
   "outputs": [
    {
     "data": {
      "text/plain": [
       "[(3460, 6963),\n",
       " (1808, 4095),\n",
       " (3265, 9562),\n",
       " (2551, 5771),\n",
       " (6605, 7876),\n",
       " (3842, 9044),\n",
       " (6150, 6549),\n",
       " (4208, 9532),\n",
       " (9136, 9376),\n",
       " (2927, 8872)]"
      ]
     },
     "execution_count": 44,
     "metadata": {},
     "output_type": "execute_result"
    }
   ],
   "source": [
    "truth_tuples = list(df_truth.reset_index().to_records(index=False))\n",
    "truth_unique = list(set(tuple(sorted(t)) for t in truth_tuples))\n",
    "truth_unique[:10]"
   ]
  },
  {
   "cell_type": "code",
   "execution_count": 45,
   "metadata": {},
   "outputs": [
    {
     "data": {
      "text/plain": [
       "16408"
      ]
     },
     "execution_count": 45,
     "metadata": {},
     "output_type": "execute_result"
    }
   ],
   "source": [
    "len(truth_unique)"
   ]
  },
  {
   "cell_type": "code",
   "execution_count": 53,
   "metadata": {},
   "outputs": [
    {
     "data": {
      "text/html": [
       "<div>\n",
       "<style scoped>\n",
       "    .dataframe tbody tr th:only-of-type {\n",
       "        vertical-align: middle;\n",
       "    }\n",
       "\n",
       "    .dataframe tbody tr th {\n",
       "        vertical-align: top;\n",
       "    }\n",
       "\n",
       "    .dataframe thead th {\n",
       "        text-align: right;\n",
       "    }\n",
       "</style>\n",
       "<table border=\"1\" class=\"dataframe\">\n",
       "  <thead>\n",
       "    <tr style=\"text-align: right;\">\n",
       "      <th></th>\n",
       "      <th>entityid1</th>\n",
       "      <th>entityid2</th>\n",
       "      <th>match_string</th>\n",
       "    </tr>\n",
       "  </thead>\n",
       "  <tbody>\n",
       "    <tr>\n",
       "      <th>0</th>\n",
       "      <td>3460</td>\n",
       "      <td>6963</td>\n",
       "      <td>3460|6963</td>\n",
       "    </tr>\n",
       "    <tr>\n",
       "      <th>1</th>\n",
       "      <td>1808</td>\n",
       "      <td>4095</td>\n",
       "      <td>1808|4095</td>\n",
       "    </tr>\n",
       "    <tr>\n",
       "      <th>2</th>\n",
       "      <td>3265</td>\n",
       "      <td>9562</td>\n",
       "      <td>3265|9562</td>\n",
       "    </tr>\n",
       "    <tr>\n",
       "      <th>3</th>\n",
       "      <td>2551</td>\n",
       "      <td>5771</td>\n",
       "      <td>2551|5771</td>\n",
       "    </tr>\n",
       "    <tr>\n",
       "      <th>4</th>\n",
       "      <td>6605</td>\n",
       "      <td>7876</td>\n",
       "      <td>6605|7876</td>\n",
       "    </tr>\n",
       "  </tbody>\n",
       "</table>\n",
       "</div>"
      ],
      "text/plain": [
       "   entityid1  entityid2 match_string\n",
       "0       3460       6963    3460|6963\n",
       "1       1808       4095    1808|4095\n",
       "2       3265       9562    3265|9562\n",
       "3       2551       5771    2551|5771\n",
       "4       6605       7876    6605|7876"
      ]
     },
     "execution_count": 53,
     "metadata": {},
     "output_type": "execute_result"
    }
   ],
   "source": [
    "df_truthunique = pd.DataFrame(truth_unique)\n",
    "df_truthunique.columns = [\"entityid1\", \"entityid2\"]\n",
    "# df_truthunique.set_index(\"entityid1\", inplace=True)\n",
    "df_truthunique[\"match_string\"] = df_truthunique.apply(lambda row: str(row[\"entityid1\"])+\"|\"+str(row[\"entityid2\"]), axis=1)\n",
    "df_truthunique.head()"
   ]
  },
  {
   "cell_type": "code",
   "execution_count": 56,
   "metadata": {},
   "outputs": [],
   "source": [
    "matches_list = list(df_matches[\"match_string\"])\n",
    "truth_list = list(df_truthunique[\"match_string\"])"
   ]
  },
  {
   "cell_type": "code",
   "execution_count": 64,
   "metadata": {},
   "outputs": [
    {
     "data": {
      "text/plain": [
       "2019"
      ]
     },
     "execution_count": 64,
     "metadata": {},
     "output_type": "execute_result"
    }
   ],
   "source": [
    "len(matches_list)"
   ]
  },
  {
   "cell_type": "code",
   "execution_count": 67,
   "metadata": {},
   "outputs": [],
   "source": [
    "good_matches = []\n",
    "for m in matches_list:\n",
    "    if m in truth_list:\n",
    "        good_matches.append(\"Good match\")\n",
    "    else:\n",
    "        good_matches.append(\"Bad match\")"
   ]
  },
  {
   "cell_type": "code",
   "execution_count": 68,
   "metadata": {},
   "outputs": [
    {
     "data": {
      "text/plain": [
       "2019"
      ]
     },
     "execution_count": 68,
     "metadata": {},
     "output_type": "execute_result"
    }
   ],
   "source": [
    "len(good_matches)"
   ]
  },
  {
   "cell_type": "code",
   "execution_count": 69,
   "metadata": {},
   "outputs": [],
   "source": [
    "df_matches[\"GoodBad\"] = good_matches"
   ]
  },
  {
   "cell_type": "code",
   "execution_count": 70,
   "metadata": {},
   "outputs": [
    {
     "data": {
      "text/html": [
       "<div>\n",
       "<style scoped>\n",
       "    .dataframe tbody tr th:only-of-type {\n",
       "        vertical-align: middle;\n",
       "    }\n",
       "\n",
       "    .dataframe tbody tr th {\n",
       "        vertical-align: top;\n",
       "    }\n",
       "\n",
       "    .dataframe thead th {\n",
       "        text-align: right;\n",
       "    }\n",
       "</style>\n",
       "<table border=\"1\" class=\"dataframe\">\n",
       "  <thead>\n",
       "    <tr style=\"text-align: right;\">\n",
       "      <th></th>\n",
       "      <th>entityid1</th>\n",
       "      <th>entityid2</th>\n",
       "      <th>match_string</th>\n",
       "      <th>GoodBad</th>\n",
       "    </tr>\n",
       "  </thead>\n",
       "  <tbody>\n",
       "    <tr>\n",
       "      <th>0</th>\n",
       "      <td>2268</td>\n",
       "      <td>7422</td>\n",
       "      <td>2268|7422</td>\n",
       "      <td>Good match</td>\n",
       "    </tr>\n",
       "    <tr>\n",
       "      <th>1</th>\n",
       "      <td>130</td>\n",
       "      <td>8584</td>\n",
       "      <td>130|8584</td>\n",
       "      <td>Good match</td>\n",
       "    </tr>\n",
       "    <tr>\n",
       "      <th>2</th>\n",
       "      <td>8253</td>\n",
       "      <td>9141</td>\n",
       "      <td>8253|9141</td>\n",
       "      <td>Good match</td>\n",
       "    </tr>\n",
       "    <tr>\n",
       "      <th>3</th>\n",
       "      <td>1476</td>\n",
       "      <td>8078</td>\n",
       "      <td>1476|8078</td>\n",
       "      <td>Bad match</td>\n",
       "    </tr>\n",
       "    <tr>\n",
       "      <th>4</th>\n",
       "      <td>1385</td>\n",
       "      <td>7594</td>\n",
       "      <td>1385|7594</td>\n",
       "      <td>Good match</td>\n",
       "    </tr>\n",
       "  </tbody>\n",
       "</table>\n",
       "</div>"
      ],
      "text/plain": [
       "   entityid1  entityid2 match_string     GoodBad\n",
       "0       2268       7422    2268|7422  Good match\n",
       "1        130       8584     130|8584  Good match\n",
       "2       8253       9141    8253|9141  Good match\n",
       "3       1476       8078    1476|8078   Bad match\n",
       "4       1385       7594    1385|7594  Good match"
      ]
     },
     "execution_count": 70,
     "metadata": {},
     "output_type": "execute_result"
    }
   ],
   "source": [
    "df_matches.head()"
   ]
  },
  {
   "cell_type": "code",
   "execution_count": 71,
   "metadata": {},
   "outputs": [
    {
     "data": {
      "text/plain": [
       "Good match    1619\n",
       "Bad match      400\n",
       "Name: GoodBad, dtype: int64"
      ]
     },
     "execution_count": 71,
     "metadata": {},
     "output_type": "execute_result"
    }
   ],
   "source": [
    "df_matches[\"GoodBad\"].value_counts()"
   ]
  },
  {
   "cell_type": "code",
   "execution_count": 72,
   "metadata": {},
   "outputs": [],
   "source": [
    "found_truth = []\n",
    "for m in truth_list:\n",
    "    if m in matches_list:\n",
    "        found_truth.append(\"Found\")\n",
    "    else:\n",
    "        found_truth.append(\"Not found\")"
   ]
  },
  {
   "cell_type": "code",
   "execution_count": 73,
   "metadata": {},
   "outputs": [
    {
     "data": {
      "text/plain": [
       "16408"
      ]
     },
     "execution_count": 73,
     "metadata": {},
     "output_type": "execute_result"
    }
   ],
   "source": [
    "len(found_truth)"
   ]
  },
  {
   "cell_type": "code",
   "execution_count": 75,
   "metadata": {},
   "outputs": [],
   "source": [
    "df_truthunique[\"Found\"] = found_truth"
   ]
  },
  {
   "cell_type": "code",
   "execution_count": 76,
   "metadata": {},
   "outputs": [
    {
     "data": {
      "text/html": [
       "<div>\n",
       "<style scoped>\n",
       "    .dataframe tbody tr th:only-of-type {\n",
       "        vertical-align: middle;\n",
       "    }\n",
       "\n",
       "    .dataframe tbody tr th {\n",
       "        vertical-align: top;\n",
       "    }\n",
       "\n",
       "    .dataframe thead th {\n",
       "        text-align: right;\n",
       "    }\n",
       "</style>\n",
       "<table border=\"1\" class=\"dataframe\">\n",
       "  <thead>\n",
       "    <tr style=\"text-align: right;\">\n",
       "      <th></th>\n",
       "      <th>entityid1</th>\n",
       "      <th>entityid2</th>\n",
       "      <th>match_string</th>\n",
       "      <th>Found</th>\n",
       "    </tr>\n",
       "  </thead>\n",
       "  <tbody>\n",
       "    <tr>\n",
       "      <th>0</th>\n",
       "      <td>3460</td>\n",
       "      <td>6963</td>\n",
       "      <td>3460|6963</td>\n",
       "      <td>Not found</td>\n",
       "    </tr>\n",
       "    <tr>\n",
       "      <th>1</th>\n",
       "      <td>1808</td>\n",
       "      <td>4095</td>\n",
       "      <td>1808|4095</td>\n",
       "      <td>Not found</td>\n",
       "    </tr>\n",
       "    <tr>\n",
       "      <th>2</th>\n",
       "      <td>3265</td>\n",
       "      <td>9562</td>\n",
       "      <td>3265|9562</td>\n",
       "      <td>Not found</td>\n",
       "    </tr>\n",
       "    <tr>\n",
       "      <th>3</th>\n",
       "      <td>2551</td>\n",
       "      <td>5771</td>\n",
       "      <td>2551|5771</td>\n",
       "      <td>Not found</td>\n",
       "    </tr>\n",
       "    <tr>\n",
       "      <th>4</th>\n",
       "      <td>6605</td>\n",
       "      <td>7876</td>\n",
       "      <td>6605|7876</td>\n",
       "      <td>Not found</td>\n",
       "    </tr>\n",
       "  </tbody>\n",
       "</table>\n",
       "</div>"
      ],
      "text/plain": [
       "   entityid1  entityid2 match_string      Found\n",
       "0       3460       6963    3460|6963  Not found\n",
       "1       1808       4095    1808|4095  Not found\n",
       "2       3265       9562    3265|9562  Not found\n",
       "3       2551       5771    2551|5771  Not found\n",
       "4       6605       7876    6605|7876  Not found"
      ]
     },
     "execution_count": 76,
     "metadata": {},
     "output_type": "execute_result"
    }
   ],
   "source": [
    "df_truthunique.head()"
   ]
  },
  {
   "cell_type": "code",
   "execution_count": 77,
   "metadata": {},
   "outputs": [
    {
     "data": {
      "text/plain": [
       "Not found    14789\n",
       "Found         1619\n",
       "Name: Found, dtype: int64"
      ]
     },
     "execution_count": 77,
     "metadata": {},
     "output_type": "execute_result"
    }
   ],
   "source": [
    "df_truthunique[\"Found\"].value_counts()"
   ]
  },
  {
   "cell_type": "code",
   "execution_count": null,
   "metadata": {},
   "outputs": [],
   "source": []
  }
 ],
 "metadata": {
  "hide_input": false,
  "kernelspec": {
   "display_name": "Python 3",
   "language": "python",
   "name": "python3"
  },
  "language_info": {
   "codemirror_mode": {
    "name": "ipython",
    "version": 3
   },
   "file_extension": ".py",
   "mimetype": "text/x-python",
   "name": "python",
   "nbconvert_exporter": "python",
   "pygments_lexer": "ipython3",
   "version": "3.7.6"
  },
  "toc": {
   "base_numbering": 1,
   "nav_menu": {},
   "number_sections": true,
   "sideBar": true,
   "skip_h1_title": true,
   "title_cell": "Table of Contents",
   "title_sidebar": "Contents",
   "toc_cell": false,
   "toc_position": {},
   "toc_section_display": true,
   "toc_window_display": false
  },
  "varInspector": {
   "cols": {
    "lenName": 16,
    "lenType": 16,
    "lenVar": 40
   },
   "kernels_config": {
    "python": {
     "delete_cmd_postfix": "",
     "delete_cmd_prefix": "del ",
     "library": "var_list.py",
     "varRefreshCmd": "print(var_dic_list())"
    },
    "r": {
     "delete_cmd_postfix": ") ",
     "delete_cmd_prefix": "rm(",
     "library": "var_list.r",
     "varRefreshCmd": "cat(var_dic_list()) "
    }
   },
   "types_to_exclude": [
    "module",
    "function",
    "builtin_function_or_method",
    "instance",
    "_Feature"
   ],
   "window_display": false
  }
 },
 "nbformat": 4,
 "nbformat_minor": 2
}
