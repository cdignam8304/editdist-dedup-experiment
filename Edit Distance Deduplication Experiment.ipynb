{
 "cells": [
  {
   "cell_type": "code",
   "execution_count": null,
   "metadata": {
    "ExecuteTime": {
     "end_time": "2020-05-08T11:19:33.235387Z",
     "start_time": "2020-05-08T11:19:22.958946Z"
    }
   },
   "outputs": [],
   "source": [
    "# Libraries\n",
    "import pandas as pd\n",
    "from pandas import DataFrame\n",
    "from nltk import edit_distance\n",
    "from fuzzywuzzy import fuzz\n",
    "from datetime import datetime"
   ]
  },
  {
   "cell_type": "code",
   "execution_count": null,
   "metadata": {
    "ExecuteTime": {
     "end_time": "2020-05-08T11:19:33.250355Z",
     "start_time": "2020-05-08T11:19:33.237349Z"
    }
   },
   "outputs": [],
   "source": [
    "# Get data\n",
    "df = pd.read_csv(\"cust10k.csv\", delimiter=\"|\")"
   ]
  },
  {
   "cell_type": "code",
   "execution_count": null,
   "metadata": {
    "ExecuteTime": {
     "end_time": "2020-05-08T11:19:33.260355Z",
     "start_time": "2020-05-08T11:19:33.251351Z"
    }
   },
   "outputs": [],
   "source": [
    "df.shape"
   ]
  },
  {
   "cell_type": "code",
   "execution_count": null,
   "metadata": {
    "ExecuteTime": {
     "end_time": "2020-05-08T14:45:23.966741Z",
     "start_time": "2020-05-08T14:45:23.948768Z"
    }
   },
   "outputs": [],
   "source": [
    "df.head(10)"
   ]
  },
  {
   "cell_type": "code",
   "execution_count": null,
   "metadata": {
    "ExecuteTime": {
     "end_time": "2020-05-08T14:02:24.537825Z",
     "start_time": "2020-05-08T14:02:24.521859Z"
    }
   },
   "outputs": [],
   "source": [
    "# Drop LOWE and HOME DEPOT\n",
    "df = df.loc[~((df[\"gold_site_name\"].str.contains(\"LOWE\"))|(df[\"gold_site_name\"].str.contains(\"HOME DEPOT\")))]"
   ]
  },
  {
   "cell_type": "code",
   "execution_count": null,
   "metadata": {
    "ExecuteTime": {
     "end_time": "2020-05-08T14:02:25.991807Z",
     "start_time": "2020-05-08T14:02:25.985853Z"
    }
   },
   "outputs": [],
   "source": [
    "def setup():\n",
    "    # Add a column to store grouping\n",
    "    df[\"GroupA\"] = None\n",
    "    df[\"GroupB\"] = None\n",
    "    df[\"GroupC\"] = None\n",
    "    df[\"GroupA_score\"] = None\n",
    "    df[\"GroupB_score\"] = None\n",
    "    df[\"GroupC_score\"] = None"
   ]
  },
  {
   "cell_type": "code",
   "execution_count": null,
   "metadata": {
    "ExecuteTime": {
     "end_time": "2020-05-08T14:02:28.577520Z",
     "start_time": "2020-05-08T14:02:28.570516Z"
    }
   },
   "outputs": [],
   "source": [
    "setup() # RUN THIS FIRST!!!"
   ]
  },
  {
   "cell_type": "code",
   "execution_count": null,
   "metadata": {
    "ExecuteTime": {
     "end_time": "2020-05-08T14:12:28.892218Z",
     "start_time": "2020-05-08T14:02:30.439033Z"
    }
   },
   "outputs": [],
   "source": [
    "\n",
    "groups = [\"GroupA\", \"GroupB\", \"GroupC\"]\n",
    "\n",
    "for g in groups:\n",
    "    print(f\"Starting: {g}\")\n",
    "    print(\"=\" * 72)\n",
    "    initial = datetime.now()\n",
    "    df = df.sample(frac=1)\n",
    "    df = df.reset_index(drop=True)\n",
    "    # indices of names for looping\n",
    "    list_idx = [idx for idx in df.index]\n",
    "    \n",
    "    # Loop through names\n",
    "    num_records = 1000 # restrict for debug\n",
    "    for idx in list_idx[:num_records]: # restrict for debug\n",
    "    \n",
    "    # for idx in list_idx:\n",
    "        print(\"-\" * 72)\n",
    "        current_name = df.iloc[idx]['gold_site_name']\n",
    "        print(f\"idx:{idx} name to compare: {current_name}\")\n",
    "#         print(df.iloc[idx][g] is None) # for debug\n",
    "        if df.iloc[idx][g] is None:\n",
    "            idx_to_compare = list_idx[idx+1:]\n",
    "#             print(f\"Number of names to compare against: {len(idx_to_compare)}\")\n",
    "            for i in idx_to_compare:\n",
    "                if df.iloc[i][g] is None:\n",
    "                    compare_name = df.iloc[i][\"gold_site_name\"]\n",
    "                    similarity_score = fuzz.ratio(current_name, compare_name)\n",
    "                    if similarity_score > 80:\n",
    "    #                     print(f\"Similarity score:{similarity_score}\")\n",
    "                        df.loc[df.index[i]][g] = current_name\n",
    "                        df.loc[df.index[i]][g+\"_score\"] = similarity_score\n",
    "        else:\n",
    "            print(f\"{current_name} already matched. Skipping.\")\n",
    "    final = datetime.now()\n",
    "    total_time = final - initial\n",
    "    print(\"=\" * 72)\n",
    "    print(f\"Group {g} total time: {total_time}\")\n",
    "\n",
    "print(\"Saving groups...\")\n",
    "df.to_csv(\"edit_dist_dedup_groups.csv\")\n",
    "print(\"Save complete!\")"
   ]
  },
  {
   "cell_type": "code",
   "execution_count": null,
   "metadata": {
    "ExecuteTime": {
     "end_time": "2020-05-08T14:34:57.520337Z",
     "start_time": "2020-05-08T14:34:57.508339Z"
    }
   },
   "outputs": [],
   "source": [
    "df.sample(5)"
   ]
  },
  {
   "cell_type": "code",
   "execution_count": null,
   "metadata": {
    "ExecuteTime": {
     "end_time": "2020-05-08T14:35:02.229459Z",
     "start_time": "2020-05-08T14:35:02.208504Z"
    }
   },
   "outputs": [],
   "source": [
    "# df.head()\n",
    "df.loc[df[\"GroupA_score\"]<100]"
   ]
  },
  {
   "cell_type": "code",
   "execution_count": null,
   "metadata": {
    "ExecuteTime": {
     "end_time": "2020-05-08T14:37:46.250863Z",
     "start_time": "2020-05-08T14:37:46.244875Z"
    }
   },
   "outputs": [],
   "source": [
    "df.shape"
   ]
  },
  {
   "cell_type": "code",
   "execution_count": null,
   "metadata": {
    "ExecuteTime": {
     "end_time": "2020-05-08T14:37:35.842510Z",
     "start_time": "2020-05-08T14:37:35.832549Z"
    }
   },
   "outputs": [],
   "source": [
    "group = \"GroupC\"\n",
    "print(f\"Number of matches: {df[group].value_counts().sum()}\")\n",
    "print(f\"Number of groups: {len(df[group].unique())}\")\n",
    "df[group].value_counts()"
   ]
  },
  {
   "cell_type": "code",
   "execution_count": null,
   "metadata": {
    "ExecuteTime": {
     "end_time": "2020-05-08T12:47:38.990276Z",
     "start_time": "2020-05-08T12:47:38.980262Z"
    }
   },
   "outputs": [],
   "source": [
    "df[\"GroupA_score\"].value_counts()"
   ]
  },
  {
   "cell_type": "code",
   "execution_count": null,
   "metadata": {
    "ExecuteTime": {
     "end_time": "2020-05-08T12:49:01.301950Z",
     "start_time": "2020-05-08T12:49:01.278948Z"
    }
   },
   "outputs": [],
   "source": [
    "df.loc[df[\"GroupA_score\"]==84]"
   ]
  },
  {
   "cell_type": "code",
   "execution_count": null,
   "metadata": {
    "ExecuteTime": {
     "end_time": "2020-05-08T14:01:07.457158Z",
     "start_time": "2020-05-08T14:01:07.424172Z"
    }
   },
   "outputs": [],
   "source": [
    "df.loc[~((df[\"gold_site_name\"].str.contains(\"LOWE\"))|(df[\"gold_site_name\"].str.contains(\"HOME DEPOT\")))]"
   ]
  },
  {
   "cell_type": "code",
   "execution_count": null,
   "metadata": {},
   "outputs": [],
   "source": []
  }
 ],
 "metadata": {
  "hide_input": false,
  "kernelspec": {
   "display_name": "Python 3",
   "language": "python",
   "name": "python3"
  },
  "language_info": {
   "codemirror_mode": {
    "name": "ipython",
    "version": 3
   },
   "file_extension": ".py",
   "mimetype": "text/x-python",
   "name": "python",
   "nbconvert_exporter": "python",
   "pygments_lexer": "ipython3",
   "version": "3.7.1"
  },
  "toc": {
   "base_numbering": 1,
   "nav_menu": {},
   "number_sections": true,
   "sideBar": true,
   "skip_h1_title": true,
   "title_cell": "Table of Contents",
   "title_sidebar": "Contents",
   "toc_cell": false,
   "toc_position": {},
   "toc_section_display": true,
   "toc_window_display": false
  },
  "varInspector": {
   "cols": {
    "lenName": 16,
    "lenType": 16,
    "lenVar": 40
   },
   "kernels_config": {
    "python": {
     "delete_cmd_postfix": "",
     "delete_cmd_prefix": "del ",
     "library": "var_list.py",
     "varRefreshCmd": "print(var_dic_list())"
    },
    "r": {
     "delete_cmd_postfix": ") ",
     "delete_cmd_prefix": "rm(",
     "library": "var_list.r",
     "varRefreshCmd": "cat(var_dic_list()) "
    }
   },
   "types_to_exclude": [
    "module",
    "function",
    "builtin_function_or_method",
    "instance",
    "_Feature"
   ],
   "window_display": false
  }
 },
 "nbformat": 4,
 "nbformat_minor": 2
}
