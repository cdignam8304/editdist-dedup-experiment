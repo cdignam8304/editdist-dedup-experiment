{
 "cells": [
  {
   "cell_type": "code",
   "execution_count": 1,
   "metadata": {
    "ExecuteTime": {
     "end_time": "2020-05-08T11:19:33.235387Z",
     "start_time": "2020-05-08T11:19:22.958946Z"
    }
   },
   "outputs": [],
   "source": [
    "# Libraries\n",
    "import pandas as pd\n",
    "from pandas import DataFrame\n",
    "from nltk import edit_distance\n",
    "from fuzzywuzzy import fuzz\n",
    "from datetime import datetime\n",
    "import matplotlib\n",
    "from matplotlib import pyplot as plt\n",
    "%matplotlib inline\n",
    "import itertools\n",
    "import numpy as np"
   ]
  },
  {
   "cell_type": "code",
   "execution_count": 2,
   "metadata": {},
   "outputs": [],
   "source": [
    "from nltk.corpus import stopwords"
   ]
  },
  {
   "cell_type": "code",
   "execution_count": 3,
   "metadata": {
    "ExecuteTime": {
     "end_time": "2020-05-08T11:19:33.250355Z",
     "start_time": "2020-05-08T11:19:33.237349Z"
    }
   },
   "outputs": [],
   "source": [
    "# Get data\n",
    "# df = pd.read_csv(\"cust10k.csv\", delimiter=\"|\")\n",
    "file = \"./affiliationstrings/affiliationstrings_ids.csv\"\n",
    "df = pd.read_csv(file, index_col=0)\n",
    "df.columns=[\"entityname\"]"
   ]
  },
  {
   "cell_type": "code",
   "execution_count": 4,
   "metadata": {
    "ExecuteTime": {
     "end_time": "2020-05-08T14:45:23.966741Z",
     "start_time": "2020-05-08T14:45:23.948768Z"
    }
   },
   "outputs": [
    {
     "data": {
      "text/html": [
       "<div>\n",
       "<style scoped>\n",
       "    .dataframe tbody tr th:only-of-type {\n",
       "        vertical-align: middle;\n",
       "    }\n",
       "\n",
       "    .dataframe tbody tr th {\n",
       "        vertical-align: top;\n",
       "    }\n",
       "\n",
       "    .dataframe thead th {\n",
       "        text-align: right;\n",
       "    }\n",
       "</style>\n",
       "<table border=\"1\" class=\"dataframe\">\n",
       "  <thead>\n",
       "    <tr style=\"text-align: right;\">\n",
       "      <th></th>\n",
       "      <th>entityname</th>\n",
       "    </tr>\n",
       "    <tr>\n",
       "      <th>id1</th>\n",
       "      <th></th>\n",
       "    </tr>\n",
       "  </thead>\n",
       "  <tbody>\n",
       "    <tr>\n",
       "      <th>7927</th>\n",
       "      <td>, IBM Almaden Research Center, 650 Harry Road,...</td>\n",
       "    </tr>\n",
       "    <tr>\n",
       "      <th>7930</th>\n",
       "      <td>, IIT Bombay</td>\n",
       "    </tr>\n",
       "    <tr>\n",
       "      <th>7987</th>\n",
       "      <td>, University of California, San Diego, USA</td>\n",
       "    </tr>\n",
       "    <tr>\n",
       "      <th>5613</th>\n",
       "      <td>28msec Inc., Zurich, Switzerland</td>\n",
       "    </tr>\n",
       "    <tr>\n",
       "      <th>9530</th>\n",
       "      <td>28msec, Inc.</td>\n",
       "    </tr>\n",
       "  </tbody>\n",
       "</table>\n",
       "</div>"
      ],
      "text/plain": [
       "                                             entityname\n",
       "id1                                                    \n",
       "7927  , IBM Almaden Research Center, 650 Harry Road,...\n",
       "7930                                       , IIT Bombay\n",
       "7987         , University of California, San Diego, USA\n",
       "5613                   28msec Inc., Zurich, Switzerland\n",
       "9530                                       28msec, Inc."
      ]
     },
     "execution_count": 4,
     "metadata": {},
     "output_type": "execute_result"
    }
   ],
   "source": [
    "df.head()"
   ]
  },
  {
   "cell_type": "code",
   "execution_count": 5,
   "metadata": {},
   "outputs": [
    {
     "data": {
      "text/plain": [
       "entityname    Department of Computer Engineering, Kyungpook ...\n",
       "Name: 8544, dtype: object"
      ]
     },
     "execution_count": 5,
     "metadata": {},
     "output_type": "execute_result"
    }
   ],
   "source": [
    "df.loc[8544]"
   ]
  },
  {
   "cell_type": "code",
   "execution_count": 6,
   "metadata": {
    "ExecuteTime": {
     "end_time": "2020-05-08T11:19:33.260355Z",
     "start_time": "2020-05-08T11:19:33.251351Z"
    }
   },
   "outputs": [
    {
     "data": {
      "text/plain": [
       "(2260, 1)"
      ]
     },
     "execution_count": 6,
     "metadata": {},
     "output_type": "execute_result"
    }
   ],
   "source": [
    "df.shape"
   ]
  },
  {
   "cell_type": "code",
   "execution_count": 8,
   "metadata": {},
   "outputs": [],
   "source": [
    "df.columns = [\"entityname_original\"]"
   ]
  },
  {
   "cell_type": "code",
   "execution_count": 9,
   "metadata": {},
   "outputs": [
    {
     "data": {
      "text/html": [
       "<div>\n",
       "<style scoped>\n",
       "    .dataframe tbody tr th:only-of-type {\n",
       "        vertical-align: middle;\n",
       "    }\n",
       "\n",
       "    .dataframe tbody tr th {\n",
       "        vertical-align: top;\n",
       "    }\n",
       "\n",
       "    .dataframe thead th {\n",
       "        text-align: right;\n",
       "    }\n",
       "</style>\n",
       "<table border=\"1\" class=\"dataframe\">\n",
       "  <thead>\n",
       "    <tr style=\"text-align: right;\">\n",
       "      <th></th>\n",
       "      <th>entityname_original</th>\n",
       "    </tr>\n",
       "    <tr>\n",
       "      <th>id1</th>\n",
       "      <th></th>\n",
       "    </tr>\n",
       "  </thead>\n",
       "  <tbody>\n",
       "    <tr>\n",
       "      <th>7927</th>\n",
       "      <td>, IBM Almaden Research Center, 650 Harry Road,...</td>\n",
       "    </tr>\n",
       "    <tr>\n",
       "      <th>7930</th>\n",
       "      <td>, IIT Bombay</td>\n",
       "    </tr>\n",
       "    <tr>\n",
       "      <th>7987</th>\n",
       "      <td>, University of California, San Diego, USA</td>\n",
       "    </tr>\n",
       "    <tr>\n",
       "      <th>5613</th>\n",
       "      <td>28msec Inc., Zurich, Switzerland</td>\n",
       "    </tr>\n",
       "    <tr>\n",
       "      <th>9530</th>\n",
       "      <td>28msec, Inc.</td>\n",
       "    </tr>\n",
       "  </tbody>\n",
       "</table>\n",
       "</div>"
      ],
      "text/plain": [
       "                                    entityname_original\n",
       "id1                                                    \n",
       "7927  , IBM Almaden Research Center, 650 Harry Road,...\n",
       "7930                                       , IIT Bombay\n",
       "7987         , University of California, San Diego, USA\n",
       "5613                   28msec Inc., Zurich, Switzerland\n",
       "9530                                       28msec, Inc."
      ]
     },
     "execution_count": 9,
     "metadata": {},
     "output_type": "execute_result"
    }
   ],
   "source": [
    "df.head()"
   ]
  },
  {
   "cell_type": "code",
   "execution_count": 19,
   "metadata": {},
   "outputs": [],
   "source": [
    "# Stopword removal and lowercase conversion\n",
    "stop = stopwords.words(\"english\")\n",
    "df[\"entityname\"] = df[\"entityname_original\"].apply(lambda x: \" \".join(word for word in x.lower().split(\" \") if word not in stop))"
   ]
  },
  {
   "cell_type": "code",
   "execution_count": 23,
   "metadata": {},
   "outputs": [
    {
     "data": {
      "text/html": [
       "<div>\n",
       "<style scoped>\n",
       "    .dataframe tbody tr th:only-of-type {\n",
       "        vertical-align: middle;\n",
       "    }\n",
       "\n",
       "    .dataframe tbody tr th {\n",
       "        vertical-align: top;\n",
       "    }\n",
       "\n",
       "    .dataframe thead th {\n",
       "        text-align: right;\n",
       "    }\n",
       "</style>\n",
       "<table border=\"1\" class=\"dataframe\">\n",
       "  <thead>\n",
       "    <tr style=\"text-align: right;\">\n",
       "      <th></th>\n",
       "      <th>entityname_original</th>\n",
       "      <th>entityname</th>\n",
       "    </tr>\n",
       "    <tr>\n",
       "      <th>id1</th>\n",
       "      <th></th>\n",
       "      <th></th>\n",
       "    </tr>\n",
       "  </thead>\n",
       "  <tbody>\n",
       "    <tr>\n",
       "      <th>1533</th>\n",
       "      <td>Department of Computer Science, Brandeis Unive...</td>\n",
       "      <td>department computer science, brandeis universi...</td>\n",
       "    </tr>\n",
       "    <tr>\n",
       "      <th>8314</th>\n",
       "      <td>The MITRE Corporation, McLean, VA</td>\n",
       "      <td>mitre corporation, mclean, va</td>\n",
       "    </tr>\n",
       "    <tr>\n",
       "      <th>8612</th>\n",
       "      <td>Department of Computer Science and Engineering...</td>\n",
       "      <td>department computer science engineering, hong ...</td>\n",
       "    </tr>\n",
       "    <tr>\n",
       "      <th>8931</th>\n",
       "      <td>IBM Haifa Research Lab, Haifa, Israel</td>\n",
       "      <td>ibm haifa research lab, haifa, israel</td>\n",
       "    </tr>\n",
       "    <tr>\n",
       "      <th>8841</th>\n",
       "      <td>National ICT Australia, Australian Technology ...</td>\n",
       "      <td>national ict australia, australian technology ...</td>\n",
       "    </tr>\n",
       "  </tbody>\n",
       "</table>\n",
       "</div>"
      ],
      "text/plain": [
       "                                    entityname_original  \\\n",
       "id1                                                       \n",
       "1533  Department of Computer Science, Brandeis Unive...   \n",
       "8314                  The MITRE Corporation, McLean, VA   \n",
       "8612  Department of Computer Science and Engineering...   \n",
       "8931              IBM Haifa Research Lab, Haifa, Israel   \n",
       "8841  National ICT Australia, Australian Technology ...   \n",
       "\n",
       "                                             entityname  \n",
       "id1                                                      \n",
       "1533  department computer science, brandeis universi...  \n",
       "8314                      mitre corporation, mclean, va  \n",
       "8612  department computer science engineering, hong ...  \n",
       "8931              ibm haifa research lab, haifa, israel  \n",
       "8841  national ict australia, australian technology ...  "
      ]
     },
     "execution_count": 23,
     "metadata": {},
     "output_type": "execute_result"
    }
   ],
   "source": [
    "df.sample(5)"
   ]
  },
  {
   "cell_type": "code",
   "execution_count": null,
   "metadata": {
    "ExecuteTime": {
     "end_time": "2020-05-08T14:02:25.991807Z",
     "start_time": "2020-05-08T14:02:25.985853Z"
    }
   },
   "outputs": [],
   "source": [
    "def setup():\n",
    "    # Add a column to store grouping\n",
    "    df[\"GroupA\"] = None\n",
    "    df[\"GroupB\"] = None\n",
    "    df[\"GroupC\"] = None\n",
    "    df[\"GroupD\"] = None\n",
    "    df[\"GroupE\"] = None\n",
    "    df[\"GroupF\"] = None\n",
    "    df[\"GroupG\"] = None\n",
    "    df[\"GroupH\"] = None\n",
    "    df[\"GroupI\"] = None\n",
    "    df[\"GroupJ\"] = None\n",
    "    df[\"GroupA_id1\"] = None\n",
    "    df[\"GroupB_id1\"] = None\n",
    "    df[\"GroupC_id1\"] = None\n",
    "    df[\"GroupD_id1\"] = None\n",
    "    df[\"GroupE_id1\"] = None\n",
    "    df[\"GroupF_id1\"] = None\n",
    "    df[\"GroupG_id1\"] = None\n",
    "    df[\"GroupH_id1\"] = None\n",
    "    df[\"GroupI_id1\"] = None\n",
    "    df[\"GroupJ_id1\"] = None\n",
    "    df[\"GroupA_score\"] = None\n",
    "    df[\"GroupB_score\"] = None\n",
    "    df[\"GroupC_score\"] = None\n",
    "    df[\"GroupD_score\"] = None\n",
    "    df[\"GroupE_score\"] = None\n",
    "    df[\"GroupF_score\"] = None\n",
    "    df[\"GroupG_score\"] = None\n",
    "    df[\"GroupH_score\"] = None\n",
    "    df[\"GroupI_score\"] = None\n",
    "    df[\"GroupJ_score\"] = None"
   ]
  },
  {
   "cell_type": "code",
   "execution_count": null,
   "metadata": {
    "ExecuteTime": {
     "end_time": "2020-05-08T14:02:28.577520Z",
     "start_time": "2020-05-08T14:02:28.570516Z"
    }
   },
   "outputs": [],
   "source": [
    "setup() # RUN THIS FIRST!!!"
   ]
  },
  {
   "cell_type": "code",
   "execution_count": null,
   "metadata": {
    "ExecuteTime": {
     "end_time": "2020-05-08T14:12:28.892218Z",
     "start_time": "2020-05-08T14:02:30.439033Z"
    }
   },
   "outputs": [],
   "source": [
    "groups = [\"GroupA\", \"GroupB\", \"GroupC\", \"GroupD\", \"GroupE\", \"GroupF\", \"GroupG\", \"GroupH\", \"GroupI\", \"GroupJ\"]\n",
    "\n",
    "for g in groups:\n",
    "    print(f\"Starting: {g}\")\n",
    "    print(\"=\" * 72)\n",
    "    initial = datetime.now()\n",
    "    df = df.sample(frac=1)\n",
    "    # indices of names for looping\n",
    "    list_idx = [idx for idx in df.index]\n",
    "    \n",
    "    # Loop through names\n",
    "#     num_records = 100 # restrict for debug\n",
    "#     for idx in list_idx[:num_records]: # restrict for debug\n",
    "    \n",
    "    for idx in list_idx:\n",
    "#         print(\"-\" * 72)\n",
    "        current_name = df.loc[idx]['entityname']\n",
    "#         print(f\"idx:{idx} name to compare: {current_name}\")\n",
    "        \n",
    "    \n",
    "        if df.loc[idx][g] is None:\n",
    "            idx_to_compare = list_idx[list_idx.index(idx)+1:]\n",
    "            for i in idx_to_compare:\n",
    "                if df.loc[i][g] is None:\n",
    "                    compare_name = df.loc[i][\"entityname\"]\n",
    "                    similarity_score = fuzz.ratio(current_name, compare_name)\n",
    "                    if similarity_score > 90:\n",
    "    #                     print(f\"Similarity score:{similarity_score}\")\n",
    "                        df.loc[df.index == i, g] = current_name\n",
    "                        df.loc[df.index == i, g+\"_score\"] = similarity_score\n",
    "                        df.loc[df.index == i, g+\"_id1\"] = idx\n",
    "#         else:\n",
    "#             print(f\"{current_name} already matched. Skipping.\")\n",
    "    \n",
    "    \n",
    "    \n",
    "    final = datetime.now()\n",
    "    total_time = final - initial\n",
    "    print(\"=\" * 72)\n",
    "    print(f\"Group {g} total time: {total_time}\")\n",
    "\n",
    "print(\"Saving groups...\")\n",
    "df.to_csv(\"edit_dist_dedup_groups.csv\")\n",
    "print(\"Save complete!\")"
   ]
  },
  {
   "cell_type": "code",
   "execution_count": null,
   "metadata": {
    "ExecuteTime": {
     "end_time": "2020-05-08T14:37:35.842510Z",
     "start_time": "2020-05-08T14:37:35.832549Z"
    }
   },
   "outputs": [],
   "source": [
    "# group = \"GroupA\"\n",
    "# print(f\"Number of matches: {df[group].value_counts().sum()}\")\n",
    "# print(f\"Number of groups: {len(df[group].unique())}\")\n",
    "# df[group].value_counts()[:10]"
   ]
  },
  {
   "cell_type": "code",
   "execution_count": null,
   "metadata": {},
   "outputs": [],
   "source": [
    "# df.loc[df[\"entityname\"].str.contains(\"AT&T\")].head()"
   ]
  },
  {
   "cell_type": "markdown",
   "metadata": {},
   "source": [
    "Remove duplicate permutations of tuples:\n",
    "\n",
    "https://stackoverflow.com/questions/15352995/removing-permutations-from-a-list-of-tuples"
   ]
  },
  {
   "cell_type": "code",
   "execution_count": null,
   "metadata": {},
   "outputs": [],
   "source": [
    "matches_temp = list(set(list(zip(df[\"GroupA_id1\"].index, df[\"GroupA_id1\"].values)) + \\\n",
    "        list(zip(df[\"GroupB_id1\"].index, df[\"GroupB_id1\"].values)) + \\\n",
    "        list(zip(df[\"GroupC_id1\"].index, df[\"GroupC_id1\"].values)) + \\\n",
    "        list(zip(df[\"GroupD_id1\"].index, df[\"GroupD_id1\"].values)) + \\\n",
    "        list(zip(df[\"GroupE_id1\"].index, df[\"GroupE_id1\"].values)) + \\\n",
    "        list(zip(df[\"GroupF_id1\"].index, df[\"GroupF_id1\"].values)) + \\\n",
    "        list(zip(df[\"GroupG_id1\"].index, df[\"GroupG_id1\"].values)) + \\\n",
    "        list(zip(df[\"GroupH_id1\"].index, df[\"GroupH_id1\"].values)) + \\\n",
    "        list(zip(df[\"GroupI_id1\"].index, df[\"GroupI_id1\"].values)) + \\\n",
    "        list(zip(df[\"GroupJ_id1\"].index, df[\"GroupJ_id1\"].values))))\n",
    "\n",
    "matches = []\n",
    "for m in matches_temp:\n",
    "    if m[0] is not None and m[1] is not None:\n",
    "        matches.append(m)\n",
    "\n",
    "# Remove permutation duplicates\n",
    "matches = list(set(tuple(sorted(t)) for t in matches))"
   ]
  },
  {
   "cell_type": "code",
   "execution_count": null,
   "metadata": {},
   "outputs": [],
   "source": [
    "len(matches)"
   ]
  },
  {
   "cell_type": "code",
   "execution_count": null,
   "metadata": {},
   "outputs": [],
   "source": [
    "matches[:10]"
   ]
  },
  {
   "cell_type": "code",
   "execution_count": null,
   "metadata": {},
   "outputs": [],
   "source": [
    "df_matches = pd.DataFrame(matches)\n",
    "df_matches.columns = [\"entityid1\", \"entityid2\"]\n",
    "# df_matches.set_index(\"entityid1\", inplace=True)\n",
    "df_matches[\"match_string\"] = df_matches.apply(lambda row: str(row[\"entityid1\"])+\"|\"+str(row[\"entityid2\"]), axis=1)\n",
    "df_matches.head()"
   ]
  },
  {
   "cell_type": "code",
   "execution_count": null,
   "metadata": {},
   "outputs": [],
   "source": [
    "# Get ground truth\n",
    "file = \"./affiliationstrings/affiliationstrings_mapping.csv\"\n",
    "df_truth = pd.read_csv(file, index_col=0, header=None, names=[\"entityid1\", \"entityid2\"])"
   ]
  },
  {
   "cell_type": "code",
   "execution_count": null,
   "metadata": {},
   "outputs": [],
   "source": [
    "truth_tuples = list(df_truth.reset_index().to_records(index=False))\n",
    "truth_unique = list(set(tuple(sorted(t)) for t in truth_tuples))\n",
    "truth_unique[:10]"
   ]
  },
  {
   "cell_type": "code",
   "execution_count": null,
   "metadata": {},
   "outputs": [],
   "source": [
    "len(truth_unique)"
   ]
  },
  {
   "cell_type": "code",
   "execution_count": null,
   "metadata": {},
   "outputs": [],
   "source": [
    "df_truthunique = pd.DataFrame(truth_unique)\n",
    "df_truthunique.columns = [\"entityid1\", \"entityid2\"]\n",
    "# df_truthunique.set_index(\"entityid1\", inplace=True)\n",
    "df_truthunique[\"match_string\"] = df_truthunique.apply(lambda row: str(row[\"entityid1\"])+\"|\"+str(row[\"entityid2\"]), axis=1)\n",
    "df_truthunique.head()"
   ]
  },
  {
   "cell_type": "code",
   "execution_count": null,
   "metadata": {},
   "outputs": [],
   "source": [
    "matches_list = list(df_matches[\"match_string\"])\n",
    "truth_list = list(df_truthunique[\"match_string\"])"
   ]
  },
  {
   "cell_type": "code",
   "execution_count": null,
   "metadata": {},
   "outputs": [],
   "source": [
    "len(matches_list)"
   ]
  },
  {
   "cell_type": "code",
   "execution_count": null,
   "metadata": {},
   "outputs": [],
   "source": [
    "good_matches = []\n",
    "for m in matches_list:\n",
    "    if m in truth_list:\n",
    "        good_matches.append(\"Good match\")\n",
    "    else:\n",
    "        good_matches.append(\"Bad match\")"
   ]
  },
  {
   "cell_type": "code",
   "execution_count": null,
   "metadata": {},
   "outputs": [],
   "source": [
    "len(good_matches)"
   ]
  },
  {
   "cell_type": "code",
   "execution_count": null,
   "metadata": {},
   "outputs": [],
   "source": [
    "df_matches[\"GoodBad\"] = good_matches"
   ]
  },
  {
   "cell_type": "code",
   "execution_count": null,
   "metadata": {},
   "outputs": [],
   "source": [
    "df_matches.head()"
   ]
  },
  {
   "cell_type": "code",
   "execution_count": null,
   "metadata": {},
   "outputs": [],
   "source": [
    "df_matches[\"GoodBad\"].value_counts()"
   ]
  },
  {
   "cell_type": "code",
   "execution_count": null,
   "metadata": {},
   "outputs": [],
   "source": [
    "found_truth = []\n",
    "for m in truth_list:\n",
    "    if m in matches_list:\n",
    "        found_truth.append(\"Found\")\n",
    "    else:\n",
    "        found_truth.append(\"Not found\")"
   ]
  },
  {
   "cell_type": "code",
   "execution_count": null,
   "metadata": {},
   "outputs": [],
   "source": [
    "len(found_truth)"
   ]
  },
  {
   "cell_type": "code",
   "execution_count": null,
   "metadata": {},
   "outputs": [],
   "source": [
    "df_truthunique[\"Found\"] = found_truth"
   ]
  },
  {
   "cell_type": "code",
   "execution_count": null,
   "metadata": {},
   "outputs": [],
   "source": [
    "df_truthunique.head()"
   ]
  },
  {
   "cell_type": "code",
   "execution_count": null,
   "metadata": {},
   "outputs": [],
   "source": [
    "df_truthunique[\"Found\"].value_counts()"
   ]
  },
  {
   "cell_type": "markdown",
   "metadata": {},
   "source": [
    "### Use NetworkX to generate connected components"
   ]
  },
  {
   "cell_type": "code",
   "execution_count": null,
   "metadata": {},
   "outputs": [],
   "source": [
    "import networkx as nx"
   ]
  },
  {
   "cell_type": "code",
   "execution_count": null,
   "metadata": {},
   "outputs": [],
   "source": [
    "G = nx.Graph()\n",
    "G.add_edges_from(matches)"
   ]
  },
  {
   "cell_type": "code",
   "execution_count": null,
   "metadata": {
    "scrolled": false
   },
   "outputs": [],
   "source": [
    "fig = plt.figure(figsize=(15,15), facecolor=\"black\")\n",
    "ax = nx.draw_networkx(G,\n",
    "                      with_labels=True,\n",
    "                      node_size=1,\n",
    "                      alpha=1,\n",
    "                      pos=nx.kamada_kawai_layout(G),\n",
    "#                       pos=nx.spring_layout(G),\n",
    "                      edge_color=\"silver\",\n",
    "                      node_color=\"silver\",\n",
    "                     font_size=12,\n",
    "                     font_color=\"white\")\n",
    "plt.axis(\"off\")\n",
    "plt.tight_layout()\n",
    "plt.suptitle(\"Matches - Connected Components\", fontsize=20, color=\"white\")\n",
    "plt.show()"
   ]
  },
  {
   "cell_type": "code",
   "execution_count": null,
   "metadata": {},
   "outputs": [],
   "source": [
    "# Print pair of entities\n",
    "print(df.loc[41][\"entityname\"])\n",
    "print(df.loc[51][\"entityname\"])"
   ]
  },
  {
   "cell_type": "code",
   "execution_count": null,
   "metadata": {},
   "outputs": [],
   "source": [
    "# Current score for a pair that was not found\n",
    "fuzz.ratio(\"Hong Kong University of Science and Technology, China\",\n",
    "          \"The Hong Kong University of Science and Technology, Hong Kong, China\")"
   ]
  },
  {
   "cell_type": "code",
   "execution_count": null,
   "metadata": {},
   "outputs": [],
   "source": [
    "# Same pair as above but with stopword removal\n",
    "fuzz.ratio(\"Hong Kong University Science Technology China\",\n",
    "          \"Hong Kong University Science Technology Hong Kong China\")"
   ]
  },
  {
   "cell_type": "code",
   "execution_count": null,
   "metadata": {},
   "outputs": [],
   "source": [
    "# Connected component subgraphs\n",
    "cc_subgraphs = list(nx.connected_components(G))"
   ]
  },
  {
   "cell_type": "code",
   "execution_count": null,
   "metadata": {},
   "outputs": [],
   "source": [
    "len(cc_subgraphs)"
   ]
  },
  {
   "cell_type": "code",
   "execution_count": null,
   "metadata": {},
   "outputs": [],
   "source": [
    "# list(cc_subgraphs[1])"
   ]
  },
  {
   "cell_type": "code",
   "execution_count": null,
   "metadata": {},
   "outputs": [],
   "source": [
    "# Generate all matching pairs based on connected components\n",
    "match_pairs = []\n",
    "for subgraph in cc_subgraphs:\n",
    "    cc = list(subgraph)\n",
    "    cc.sort()\n",
    "    combos = list(itertools.combinations(cc, 2))\n",
    "    for c in combos:\n",
    "        match_pairs.append(c)\n",
    "#     print(combos)\n",
    "#     print(\"-\"*72)"
   ]
  },
  {
   "cell_type": "code",
   "execution_count": null,
   "metadata": {},
   "outputs": [],
   "source": [
    "len(match_pairs)"
   ]
  },
  {
   "cell_type": "code",
   "execution_count": null,
   "metadata": {},
   "outputs": [],
   "source": [
    "match_pairs[:10]"
   ]
  },
  {
   "cell_type": "code",
   "execution_count": null,
   "metadata": {},
   "outputs": [],
   "source": [
    "df_ccmatches = pd.DataFrame(match_pairs)\n",
    "df_ccmatches.columns = [\"entityid1\", \"entityid2\"]\n",
    "df_ccmatches[\"match_string\"] = df_ccmatches.apply(lambda row: str(row[\"entityid1\"])+\"|\"+str(row[\"entityid2\"]), axis=1)\n",
    "df_ccmatches.head()"
   ]
  },
  {
   "cell_type": "code",
   "execution_count": null,
   "metadata": {},
   "outputs": [],
   "source": [
    "df_ccmatches.shape"
   ]
  },
  {
   "cell_type": "code",
   "execution_count": null,
   "metadata": {},
   "outputs": [],
   "source": [
    "ccmatches_list = list(df_ccmatches[\"match_string\"])"
   ]
  },
  {
   "cell_type": "code",
   "execution_count": null,
   "metadata": {},
   "outputs": [],
   "source": [
    "good_ccmatches = []\n",
    "for m in ccmatches_list:\n",
    "    if m in truth_list:\n",
    "        good_ccmatches.append(\"Good match\")\n",
    "    else:\n",
    "        good_ccmatches.append(\"Bad match\")"
   ]
  },
  {
   "cell_type": "code",
   "execution_count": null,
   "metadata": {},
   "outputs": [],
   "source": [
    "df_ccmatches[\"GoodBad\"] = good_ccmatches"
   ]
  },
  {
   "cell_type": "code",
   "execution_count": null,
   "metadata": {},
   "outputs": [],
   "source": [
    "df_ccmatches.head()"
   ]
  },
  {
   "cell_type": "code",
   "execution_count": null,
   "metadata": {},
   "outputs": [],
   "source": [
    "df_ccmatches[\"GoodBad\"].value_counts()"
   ]
  },
  {
   "cell_type": "code",
   "execution_count": null,
   "metadata": {},
   "outputs": [],
   "source": [
    "found_good_matches = list(df_ccmatches.loc[df_ccmatches[\"GoodBad\"]==\"Good match\"][\"match_string\"])"
   ]
  },
  {
   "cell_type": "code",
   "execution_count": null,
   "metadata": {},
   "outputs": [],
   "source": [
    "truth_not_found = []\n",
    "for t in truth_list:\n",
    "    if t not in found_good_matches:\n",
    "        truth_not_found.append(t)\n",
    "print(f\"Number of truths not found: {len(truth_not_found)}\")"
   ]
  },
  {
   "cell_type": "code",
   "execution_count": null,
   "metadata": {},
   "outputs": [],
   "source": [
    "found_good_matches[:10]"
   ]
  },
  {
   "cell_type": "markdown",
   "metadata": {},
   "source": [
    "<div style=\"background-color:black; color:white;\">\n",
    "    <h3>Results with 3 groups and threshold at 75 (no stopword removal)</h3>\n",
    "    <hr>\n",
    "    <ul>\n",
    "        <li>Bad match     221405</li>\n",
    "        <li>Good match     7261</li>\n",
    "    </ul>\n",
    "</div>"
   ]
  },
  {
   "cell_type": "markdown",
   "metadata": {},
   "source": [
    "<div style=\"background-color:black; color:white;\">\n",
    "    <h3>Results with 3 groups and threshold at 80  (no stopword removal)</h3>\n",
    "    <hr>\n",
    "    <ul>\n",
    "        <li>Bad match     15725</li>\n",
    "        <li>Good match     4719</li>\n",
    "    </ul>\n",
    "</div>\n"
   ]
  },
  {
   "cell_type": "markdown",
   "metadata": {},
   "source": [
    "<div style=\"background-color:black; color:white;\">\n",
    "    <h3>Results with 3 groups and threshold at 85  (no stopword removal)</h3>\n",
    "    <hr>\n",
    "    <ul>\n",
    "        <li>Bad match     2253</li>\n",
    "        <li>Good match     2706</li>\n",
    "    </ul>\n",
    "</div>"
   ]
  },
  {
   "cell_type": "markdown",
   "metadata": {},
   "source": [
    "<div style=\"background-color:black; color:white;\">\n",
    "    <h3>Results with 3 groups and threshold at 90  (no stopword removal)</h3>\n",
    "    <hr>\n",
    "    <ul>\n",
    "        <li>Bad match     165</li>\n",
    "        <li>Good match     1339</li>\n",
    "    </ul>\n",
    "</div>"
   ]
  },
  {
   "cell_type": "code",
   "execution_count": null,
   "metadata": {},
   "outputs": [],
   "source": [
    "labels=[75,80,85,90]\n",
    "x=[7261,4719,2706,1339]\n",
    "y=[221405,15725,2253,165]\n",
    "\n",
    "fig, ax = plt.subplots(figsize=(10,5))\n",
    "ax.scatter(x=x, y=y)\n",
    "\n",
    "for i, txt in enumerate(labels):\n",
    "    ax.annotate(txt, (x[i], y[i]))\n",
    "\n",
    "# plt.axis(\"equal\")\n",
    "# plt.xlim(left=0, right=max(y))\n",
    "plt.title(\"Impact of fuzz.ratio threshold on results with 3 groups\")\n",
    "plt.xlabel(\"Good matches\")\n",
    "plt.ylabel(\"Bad matches\")\n",
    "plt.grid()"
   ]
  },
  {
   "cell_type": "markdown",
   "metadata": {},
   "source": [
    "<div style=\"background-color:black; color:white;\">\n",
    "    <h3>Results with 10 groups and threshold at 90  (no stopword removal)</h3>\n",
    "    <hr>\n",
    "    <ul>\n",
    "        <li>Bad match     218</li>\n",
    "        <li>Good match     1608</li>\n",
    "    </ul>\n",
    "</div>"
   ]
  },
  {
   "cell_type": "code",
   "execution_count": null,
   "metadata": {},
   "outputs": [],
   "source": []
  }
 ],
 "metadata": {
  "hide_input": false,
  "kernelspec": {
   "display_name": "Python 3",
   "language": "python",
   "name": "python3"
  },
  "language_info": {
   "codemirror_mode": {
    "name": "ipython",
    "version": 3
   },
   "file_extension": ".py",
   "mimetype": "text/x-python",
   "name": "python",
   "nbconvert_exporter": "python",
   "pygments_lexer": "ipython3",
   "version": "3.7.6"
  },
  "toc": {
   "base_numbering": 1,
   "nav_menu": {},
   "number_sections": true,
   "sideBar": true,
   "skip_h1_title": true,
   "title_cell": "Table of Contents",
   "title_sidebar": "Contents",
   "toc_cell": false,
   "toc_position": {},
   "toc_section_display": true,
   "toc_window_display": false
  },
  "varInspector": {
   "cols": {
    "lenName": 16,
    "lenType": 16,
    "lenVar": 40
   },
   "kernels_config": {
    "python": {
     "delete_cmd_postfix": "",
     "delete_cmd_prefix": "del ",
     "library": "var_list.py",
     "varRefreshCmd": "print(var_dic_list())"
    },
    "r": {
     "delete_cmd_postfix": ") ",
     "delete_cmd_prefix": "rm(",
     "library": "var_list.r",
     "varRefreshCmd": "cat(var_dic_list()) "
    }
   },
   "types_to_exclude": [
    "module",
    "function",
    "builtin_function_or_method",
    "instance",
    "_Feature"
   ],
   "window_display": false
  }
 },
 "nbformat": 4,
 "nbformat_minor": 2
}
